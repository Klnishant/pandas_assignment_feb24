{
 "cells": [
  {
   "cell_type": "code",
   "execution_count": 19,
   "id": "bb8b7d6c-7268-414f-8be7-f295e5c1dadc",
   "metadata": {},
   "outputs": [
    {
     "data": {
      "text/html": [
       "<div>\n",
       "<style scoped>\n",
       "    .dataframe tbody tr th:only-of-type {\n",
       "        vertical-align: middle;\n",
       "    }\n",
       "\n",
       "    .dataframe tbody tr th {\n",
       "        vertical-align: top;\n",
       "    }\n",
       "\n",
       "    .dataframe thead th {\n",
       "        text-align: right;\n",
       "    }\n",
       "</style>\n",
       "<table border=\"1\" class=\"dataframe\">\n",
       "  <thead>\n",
       "    <tr style=\"text-align: right;\">\n",
       "      <th></th>\n",
       "      <th>Email</th>\n",
       "      <th>Username</th>\n",
       "    </tr>\n",
       "  </thead>\n",
       "  <tbody>\n",
       "    <tr>\n",
       "      <th>0</th>\n",
       "      <td>nishant.kaushal@domain.com</td>\n",
       "      <td>nishant.kaushal</td>\n",
       "    </tr>\n",
       "    <tr>\n",
       "      <th>1</th>\n",
       "      <td>sudhanshu.kumar@domain.com</td>\n",
       "      <td>sudhanshu.kumar</td>\n",
       "    </tr>\n",
       "    <tr>\n",
       "      <th>2</th>\n",
       "      <td>krish.naik@domain.com</td>\n",
       "      <td>krish.naik</td>\n",
       "    </tr>\n",
       "  </tbody>\n",
       "</table>\n",
       "</div>"
      ],
      "text/plain": [
       "                        Email         Username\n",
       "0  nishant.kaushal@domain.com  nishant.kaushal\n",
       "1  sudhanshu.kumar@domain.com  sudhanshu.kumar\n",
       "2       krish.naik@domain.com       krish.naik"
      ]
     },
     "execution_count": 19,
     "metadata": {},
     "output_type": "execute_result"
    }
   ],
   "source": [
    "import pandas as pd\n",
    "email = {'Email':[\"nishant.kaushal@domain.com\",\"sudhanshu.kumar@domain.com\",\"krish.naik@domain.com\"]}\n",
    "df = pd.DataFrame(email)\n",
    "username = []\n",
    "for i in df['Email']:\n",
    "    username.append(i.split('@')[0])\n",
    "df['Username'] = pd.DataFrame(username)\n",
    "df"
   ]
  }
 ],
 "metadata": {
  "kernelspec": {
   "display_name": "Python 3 (ipykernel)",
   "language": "python",
   "name": "python3"
  },
  "language_info": {
   "codemirror_mode": {
    "name": "ipython",
    "version": 3
   },
   "file_extension": ".py",
   "mimetype": "text/x-python",
   "name": "python",
   "nbconvert_exporter": "python",
   "pygments_lexer": "ipython3",
   "version": "3.10.8"
  }
 },
 "nbformat": 4,
 "nbformat_minor": 5
}
