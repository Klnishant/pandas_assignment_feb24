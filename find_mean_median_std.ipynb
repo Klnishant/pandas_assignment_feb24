{
 "cells": [
  {
   "cell_type": "code",
   "execution_count": 2,
   "id": "5928b52d-0a50-4772-8ea9-562fb4e7a4e8",
   "metadata": {},
   "outputs": [
    {
     "name": "stdout",
     "output_type": "stream",
     "text": [
      "Values    30.0\n",
      "dtype: float64\n",
      "Values    30.0\n",
      "dtype: float64\n",
      "Values    15.811388\n",
      "dtype: float64\n"
     ]
    }
   ],
   "source": [
    "import pandas as pd\n",
    "data = {'Values':[10, 20, 30, 40, 50]}\n",
    "df = pd.DataFrame(data)\n",
    "mean = df.mean()\n",
    "median = df.median()\n",
    "standard_deviation = df.std()\n",
    "print(mean)\n",
    "print(median)\n",
    "print(standard_deviation)"
   ]
  }
 ],
 "metadata": {
  "kernelspec": {
   "display_name": "Python 3 (ipykernel)",
   "language": "python",
   "name": "python3"
  },
  "language_info": {
   "codemirror_mode": {
    "name": "ipython",
    "version": 3
   },
   "file_extension": ".py",
   "mimetype": "text/x-python",
   "name": "python",
   "nbconvert_exporter": "python",
   "pygments_lexer": "ipython3",
   "version": "3.10.8"
  }
 },
 "nbformat": 4,
 "nbformat_minor": 5
}
