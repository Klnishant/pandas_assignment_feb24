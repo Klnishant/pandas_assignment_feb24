{
 "cells": [
  {
   "cell_type": "code",
   "execution_count": 3,
   "id": "ec513f05-b55c-49bb-964f-877867113b95",
   "metadata": {},
   "outputs": [
    {
     "name": "stdout",
     "output_type": "stream",
     "text": [
      "60\n"
     ]
    }
   ],
   "source": [
    "import pandas as pd\n",
    "data = {'Values':[10, 20, 30, 40, 50]}\n",
    "df = pd.DataFrame(data)\n",
    "values_sum = df['Values'][:3].sum()\n",
    "print(values_sum)"
   ]
  },
  {
   "cell_type": "code",
   "execution_count": null,
   "id": "1bf71fc2-baf2-4adf-aa97-bbb0b6ce87bc",
   "metadata": {},
   "outputs": [],
   "source": []
  }
 ],
 "metadata": {
  "kernelspec": {
   "display_name": "Python 3 (ipykernel)",
   "language": "python",
   "name": "python3"
  },
  "language_info": {
   "codemirror_mode": {
    "name": "ipython",
    "version": 3
   },
   "file_extension": ".py",
   "mimetype": "text/x-python",
   "name": "python",
   "nbconvert_exporter": "python",
   "pygments_lexer": "ipython3",
   "version": "3.10.8"
  }
 },
 "nbformat": 4,
 "nbformat_minor": 5
}
